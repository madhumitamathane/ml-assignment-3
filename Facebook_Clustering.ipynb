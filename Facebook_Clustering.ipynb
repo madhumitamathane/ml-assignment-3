{
 "cells": [
  {
   "cell_type": "code",
   "execution_count": 2,
   "metadata": {
    "collapsed": true
   },
   "outputs": [],
   "source": [
    "# Here are some libraries we will need:\n",
    "\n",
    "import pandas as pd\n",
    "import matplotlib.pyplot as plt\n",
    "import seaborn as sns; sns.set()  # for plot styling\n",
    "import numpy as np"
   ]
  },
  {
   "cell_type": "code",
   "execution_count": 19,
   "metadata": {},
   "outputs": [],
   "source": [
    "#Reading the dataset\n",
    "\n",
    "data = pd.read_csv (\"./data/Facebook_metrics/dataset_Facebook.csv\" ,sep= \" \", header = 0)"
   ]
  },
  {
   "cell_type": "code",
   "execution_count": 20,
   "metadata": {},
   "outputs": [
    {
     "name": "stdout",
     "output_type": "stream",
     "text": [
      "Index(['Page', 'total', 'likes;Type;Category;Post', 'Month;Post',\n",
      "       'Weekday;Post', 'Hour;Paid;Lifetime', 'Post', 'Total', 'Reach;Lifetime',\n",
      "       'Post.1', 'Total.1', 'Impressions;Lifetime', 'Engaged',\n",
      "       'Users;Lifetime', 'Post.2', 'Consumers;Lifetime', 'Post.3',\n",
      "       'Consumptions;Lifetime', 'Post.4', 'Impressions', 'by', 'people', 'who',\n",
      "       'have', 'liked', 'your', 'Page;Lifetime', 'Post.5', 'reach', 'by.1',\n",
      "       'people.1', 'who.1', 'like', 'your.1', 'Page;Lifetime.1', 'People',\n",
      "       'who.2', 'have.1', 'liked.1', 'your.2', 'Page.1', 'and', 'engaged',\n",
      "       'with', 'your.3', 'post;comment;like;share;Total', 'Interactions'],\n",
      "      dtype='object')\n"
     ]
    }
   ],
   "source": [
    "print (data.columns)"
   ]
  },
  {
   "cell_type": "code",
   "execution_count": 21,
   "metadata": {},
   "outputs": [
    {
     "data": {
      "text/plain": [
       "(500, 47)"
      ]
     },
     "execution_count": 21,
     "metadata": {},
     "output_type": "execute_result"
    }
   ],
   "source": [
    "data.shape"
   ]
  },
  {
   "cell_type": "code",
   "execution_count": null,
   "metadata": {
    "collapsed": true
   },
   "outputs": [],
   "source": []
  }
 ],
 "metadata": {
  "kernelspec": {
   "display_name": "Python 3",
   "language": "python",
   "name": "python3"
  },
  "language_info": {
   "codemirror_mode": {
    "name": "ipython",
    "version": 3
   },
   "file_extension": ".py",
   "mimetype": "text/x-python",
   "name": "python",
   "nbconvert_exporter": "python",
   "pygments_lexer": "ipython3",
   "version": "3.6.3"
  }
 },
 "nbformat": 4,
 "nbformat_minor": 2
}
